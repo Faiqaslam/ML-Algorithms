{
 "cells": [
  {
   "cell_type": "code",
   "execution_count": 10,
   "metadata": {},
   "outputs": [],
   "source": [
    "import random\n",
    "import math"
   ]
  },
  {
   "cell_type": "code",
   "execution_count": 19,
   "metadata": {},
   "outputs": [],
   "source": [
    "def initialize_board():\n",
    "    board = [[0 for j in range(8)] for i in range(8)]\n",
    "    for i in range(8):\n",
    "        j = random.randint(0, 7)\n",
    "        board[i][j] = 1\n",
    "    return board"
   ]
  },
  {
   "cell_type": "code",
   "execution_count": 20,
   "metadata": {},
   "outputs": [],
   "source": [
    "def calculate_attacks(board):\n",
    "    attacks = 0\n",
    "    for i in range(8):\n",
    "        for j in range(8):\n",
    "            if board[i][j] == 1:\n",
    "                # check row\n",
    "                for k in range(8):\n",
    "                    if k != j and board[i][k] == 1:\n",
    "                        attacks += 1\n",
    "                        break\n",
    "                # check column\n",
    "                for k in range(8):\n",
    "                    if k != i and board[k][j] == 1:\n",
    "                        attacks += 1\n",
    "                        break\n",
    "                # check diagonal\n",
    "                for k in range(1, 8):\n",
    "                    if i+k < 8 and j+k < 8 and board[i+k][j+k] == 1:\n",
    "                        attacks += 1\n",
    "                        break\n",
    "                    if i+k < 8 and j-k >= 0 and board[i+k][j-k] == 1:\n",
    "                        attacks += 1\n",
    "                        break\n",
    "                    if i-k >= 0 and j+k < 8 and board[i-k][j+k] == 1:\n",
    "                        attacks += 1\n",
    "                        break\n",
    "                    if i-k >= 0 and j-k >= 0 and board[i-k][j-k] == 1:\n",
    "                        attacks += 1\n",
    "                        break\n",
    "    return attacks"
   ]
  },
  {
   "cell_type": "code",
   "execution_count": 21,
   "metadata": {},
   "outputs": [],
   "source": [
    "def anneal():\n",
    "    temperature = 1000\n",
    "    board = initialize_board()\n",
    "    current_attacks = calculate_attacks(board)\n",
    "    print(\"Initial board:\")\n",
    "    print_board(board)\n",
    "    print(\"Initial attacks:\", current_attacks)\n",
    "    while temperature > 1:\n",
    "        i = random.randint(0, 7)\n",
    "        j = random.randint(0, 7)\n",
    "        new_board = [[board[row][col] for col in range(8)] for row in range(8)]\n",
    "        new_board[i][j] = 1 - new_board[i][j]\n",
    "        new_attacks = calculate_attacks(new_board)\n",
    "        delta = new_attacks - current_attacks\n",
    "        if delta < 0 or random.random() < math.exp(-delta/temperature):\n",
    "            board = new_board\n",
    "            current_attacks = new_attacks\n",
    "        temperature -= 1\n",
    "    print(\"Final board:\")\n",
    "    print_board(board)\n",
    "    print(\"Final attacks:\", current_attacks)\n",
    "    return [j for i, j in enumerate([row.index(1) for row in board])]\n"
   ]
  },
  {
   "cell_type": "code",
   "execution_count": 22,
   "metadata": {},
   "outputs": [
    {
     "name": "stdout",
     "output_type": "stream",
     "text": [
      "Initial board:\n",
      ". . . . Q . . .\n",
      ". . . . . . Q .\n",
      "Q . . . . . . .\n",
      ". . . . . . . Q\n",
      ". . . . . Q . .\n",
      ". . . . Q . . .\n",
      ". . . . . . . Q\n",
      ". . . . . . Q .\n",
      "Initial attacks: 12\n",
      "Final board:\n",
      ". . Q Q Q . . .\n",
      "Q Q Q . . . Q Q\n",
      ". . . Q . . Q Q\n",
      ". . . Q . . Q Q\n",
      "Q Q Q Q . . Q .\n",
      ". . Q . . Q Q .\n",
      ". Q Q Q . Q Q Q\n",
      ". . Q . . Q . .\n",
      "Final attacks: 89\n",
      "Solution: [2, 0, 3, 3, 0, 2, 1, 2]\n"
     ]
    }
   ],
   "source": [
    "def print_board(board):\n",
    "    for row in board:\n",
    "        print(' '.join(['Q' if cell == 1 else '.' for cell in row]))\n",
    "\n",
    "solution = anneal()\n",
    "print(\"Solution:\", solution)\n"
   ]
  },
  {
   "cell_type": "code",
   "execution_count": 18,
   "metadata": {},
   "outputs": [],
   "source": [
    "def anneal():\n",
    "    temperature = 1000\n",
    "    board = initial_board()\n",
    "    current_attacks = count_attacks(board)\n",
    "    print(\"Initial board:\")\n",
    "    print_board(board)\n",
    "    print(\"Initial attacks:\", current_attacks)\n",
    "    while temperature > 1:\n",
    "        i = random.randint(0, 7)\n",
    "        j = random.randint(0, 7)\n",
    "        new_board = [[board[row][col] for col in range(8)] for row in range(8)]\n",
    "        new_board[i][j] = 1 - new_board[i][j]\n",
    "        new_attacks = count_attacks(new_board)\n",
    "        delta = new_attacks - current_attacks\n",
    "        if delta < 0 or random.random() < math.exp(-delta/temperature):\n",
    "            board = new_board\n",
    "            current_attacks = new_attacks\n",
    "        temperature -= 1\n",
    "    print(\"Final board:\")\n",
    "    print_board(board)\n",
    "    print(\"Final attacks:\", current_attacks)\n",
    "    return [j for i, j in enumerate([row.index(1) for row in board])]"
   ]
  },
  {
   "cell_type": "code",
   "execution_count": null,
   "metadata": {},
   "outputs": [],
   "source": []
  }
 ],
 "metadata": {
  "kernelspec": {
   "display_name": "base",
   "language": "python",
   "name": "python3"
  },
  "language_info": {
   "codemirror_mode": {
    "name": "ipython",
    "version": 3
   },
   "file_extension": ".py",
   "mimetype": "text/x-python",
   "name": "python",
   "nbconvert_exporter": "python",
   "pygments_lexer": "ipython3",
   "version": "3.9.13"
  },
  "orig_nbformat": 4
 },
 "nbformat": 4,
 "nbformat_minor": 2
}
