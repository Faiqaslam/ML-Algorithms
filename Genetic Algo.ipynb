{
 "cells": [
  {
   "cell_type": "code",
   "execution_count": 1,
   "id": "d0a72c49",
   "metadata": {},
   "outputs": [],
   "source": [
    "import random"
   ]
  },
  {
   "cell_type": "code",
   "execution_count": 15,
   "id": "4e6cf4ef",
   "metadata": {},
   "outputs": [],
   "source": [
    "# Define the problem\n",
    "INITIAL_STATE = [[0, 0, 0, 0],\n",
    "                 [0, 0, 0, 0],\n",
    "                 [0, 0, 0, 0],\n",
    "                 [0, 0, 0, 0]]\n",
    "GOAL_STATE = [[1, 1, 1, 1],\n",
    "              [1, 1, 1, 1],\n",
    "              [1, 1, 1, 1],\n",
    "              [1, 1, 1, 1]]"
   ]
  },
  {
   "cell_type": "code",
   "execution_count": 16,
   "id": "a1336979",
   "metadata": {},
   "outputs": [],
   "source": [
    "# Convert 2D array to 1D array\n",
    "def flatten(arr):\n",
    "    return [elem for row in arr for elem in row]\n"
   ]
  },
  {
   "cell_type": "code",
   "execution_count": 17,
   "id": "534ccb0f",
   "metadata": {},
   "outputs": [],
   "source": [
    "# Convert 1D array to 2D array\n",
    "def unflatten(arr):\n",
    "    return [arr[i:i+4] for i in range(0, 16, 4)]"
   ]
  },
  {
   "cell_type": "code",
   "execution_count": 24,
   "id": "6c326690",
   "metadata": {},
   "outputs": [],
   "source": [
    "def fitness(state):\n",
    "    flat_state = [item for sublist in state for item in sublist]\n",
    "    return sum(flat_state)"
   ]
  },
  {
   "cell_type": "code",
   "execution_count": 25,
   "id": "7af9ee43",
   "metadata": {},
   "outputs": [],
   "source": [
    "# Define mutation function\n",
    "def mutate(state):\n",
    "    index = random.randint(0, 15)\n",
    "    new_state = flatten(state)\n",
    "    new_state[index] = 1 - new_state[index]\n",
    "    return unflatten(new_state)\n"
   ]
  },
  {
   "cell_type": "code",
   "execution_count": 26,
   "id": "2673c304",
   "metadata": {},
   "outputs": [],
   "source": [
    "# Define crossover function\n",
    "def crossover(parent1, parent2):\n",
    "    crossover_point = random.randint(0, 15)\n",
    "    child1 = flatten(parent1)[:crossover_point] + flatten(parent2)[crossover_point:]\n",
    "    child2 = flatten(parent2)[:crossover_point] + flatten(parent1)[crossover_point:]\n",
    "    return (unflatten(child1), unflatten(child2))"
   ]
  },
  {
   "cell_type": "code",
   "execution_count": 36,
   "id": "b19e5a7c",
   "metadata": {},
   "outputs": [],
   "source": [
    "def select(population):\n",
    "    fitness_sum = sum(fitness(state) for state in population)\n",
    "    if fitness_sum == 0:\n",
    "        parent1, parent2 = random.sample(population, 2)\n",
    "    else:\n",
    "        selection_probs = [fitness(state) / fitness_sum for state in population]\n",
    "        parent1 = random.choices(population, weights=selection_probs)[0]\n",
    "        parent2 = random.choices(population, weights=selection_probs)[0]\n",
    "    return parent1, parent2"
   ]
  },
  {
   "cell_type": "code",
   "execution_count": 37,
   "id": "de4c5cad",
   "metadata": {},
   "outputs": [],
   "source": [
    "# Generate initial population\n",
    "population = [INITIAL_STATE] * 10\n"
   ]
  },
  {
   "cell_type": "code",
   "execution_count": 38,
   "id": "3f459617",
   "metadata": {},
   "outputs": [
    {
     "name": "stdout",
     "output_type": "stream",
     "text": [
      "Solution found in 209 iterations!\n"
     ]
    }
   ],
   "source": [
    "# Run genetic algorithm\n",
    "for i in range(1000):\n",
    "    parent1, parent2 = select(population)\n",
    "    child1, child2 = crossover(parent1, parent2)\n",
    "    if random.random() < 0.1:\n",
    "        child1 = mutate(child1)\n",
    "    if random.random() < 0.1:\n",
    "        child2 = mutate(child2)\n",
    "    if fitness(child1) == 16:\n",
    "        print(\"Solution found in\", i+1, \"iterations!\")\n",
    "        break\n",
    "    if fitness(child2) == 16:\n",
    "        print(\"Solution found in\", i+1, \"iterations!\")\n",
    "        break\n",
    "    population.sort(key=lambda state: fitness(state))\n",
    "    population[0] = child1\n",
    "    population[1] = child2"
   ]
  }
 ],
 "metadata": {
  "kernelspec": {
   "display_name": "Python 3 (ipykernel)",
   "language": "python",
   "name": "python3"
  },
  "language_info": {
   "codemirror_mode": {
    "name": "ipython",
    "version": 3
   },
   "file_extension": ".py",
   "mimetype": "text/x-python",
   "name": "python",
   "nbconvert_exporter": "python",
   "pygments_lexer": "ipython3",
   "version": "3.9.13"
  }
 },
 "nbformat": 4,
 "nbformat_minor": 5
}
