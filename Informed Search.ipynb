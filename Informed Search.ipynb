{
  "cells": [
    {
      "cell_type": "code",
      "execution_count": 2,
      "metadata": {},
      "outputs": [],
      "source": [
        "import heapq\n",
        "import math"
      ]
    },
    {
      "cell_type": "code",
      "execution_count": 5,
      "metadata": {
        "id": "ABYbzAJKgs1r"
      },
      "outputs": [],
      "source": [
        "\n",
        "map = {\n",
        "    'Arad': {'Zerind': 75, 'Sibiu': 140, 'Timisoara': 118},\n",
        "    'Bucharest': {'Urziceni': 85, 'Pitesti': 101, 'Giurgiu': 90, 'Fagaras': 211},\n",
        "    'Craiova': {'Drobeta': 120, 'Rimnicu': 146, 'Pitesti': 138},\n",
        "    'Drobeta': {'Mehadia': 75, 'Craiova': 120},\n",
        "    'Eforie': {'Hirsova': 86},\n",
        "    'Fagaras': {'Sibiu': 99, 'Bucharest': 211},\n",
        "    'Giurgiu': {'Bucharest': 90},\n",
        "    'Hirsova': {'Urziceni': 98, 'Eforie': 86},\n",
        "    'Iasi': {'Neamt': 87, 'Vaslui': 92},\n",
        "    'Lugoj': {'Timisoara': 111, 'Mehadia': 70},\n",
        "    'Mehadia': {'Lugoj': 70, 'Drobeta': 75},\n",
        "    'Neamt': {'Iasi': 87},\n",
        "    'Oradea': {'Zerind': 71, 'Sibiu': 151},\n",
        "    'Pitesti': {'Rimnicu': 97, 'Bucharest': 101, 'Craiova': 138},\n",
        "    'Rimnicu': {'Sibiu': 80, 'Craiova': 146, 'Pitesti': 97},\n",
        "    'Sibiu': {'Arad': 140, 'Oradea': 151, 'Fagaras': 99, 'Rimnicu': 80},\n",
        "    'Timisoara': {'Arad': 118, 'Lugoj': 111},\n",
        "    'Urziceni': {'Bucharest': 85, 'Hirsova': 98, 'Vaslui': 142},\n",
        "    'Vaslui': {'Iasi': 92, 'Urziceni': 142},\n",
        "    'Zerind': {'Arad': 75, 'Oradea': 71}\n",
        "}\n",
        "hur = {\n",
        "    'Arad': 366,\n",
        "    'Bucharest': 0,\n",
        "    'Craiova': 160,\n",
        "    'Drobeta': 242,\n",
        "    'Eforie': 161,\n",
        "    'Fagaras': 176,\n",
        "    'Giurgiu': 77,\n",
        "    'Hirsova': 151,\n",
        "    'Iasi': 226,\n",
        "    'Lugoj': 244,\n",
        "    'Mehadia': 241,\n",
        "    'Neamt': 234,\n",
        "    'Oradea': 380,\n",
        "    'Pitesti': 100,\n",
        "    'Rimnicu': 193,\n",
        "    'Sibiu': 253,\n",
        "    'Timisoara': 329,\n",
        "    'Urziceni': 80,\n",
        "    'Vaslui': 199,\n",
        "    'Zerind': 374\n",
        "}"
      ]
    },
    {
      "cell_type": "code",
      "execution_count": 6,
      "metadata": {
        "id": "CSebSM5ggyFb"
      },
      "outputs": [],
      "source": [
        "def BFS(start, goal):\n",
        "    frontier = []\n",
        "    heapq.heappush(frontier, (0, start))\n",
        "    came_from = {}\n",
        "    cost_so_far = {}\n",
        "    far = {}\n",
        "    came_from[start] = None\n",
        "    cost_so_far[start] = 0\n",
        "    far[start] = hur[start]\n",
        "    \n",
        "    while frontier:\n",
        "        current = heapq.heappop(frontier)[1]\n",
        "        \n",
        "        if current == goal:\n",
        "            path = [current]\n",
        "            while current != start:\n",
        "                current = came_from[current]\n",
        "                path.append(current)\n",
        "            path.reverse()\n",
        "            return path\n",
        "        \n",
        "        for next_city in map[current].keys():\n",
        "            new_cost = cost_so_far[current] + map[current][next_city]\n",
        "            if next_city not in cost_so_far or new_cost < cost_so_far[next_city]:\n",
        "                cost_so_far[next_city] = new_cost\n",
        "                far[next_city] = new_cost + hur[next_city]\n",
        "                heapq.heappush(frontier, (far[next_city], next_city))\n",
        "                came_from[next_city] = current\n",
        "    \n",
        "    return None\n"
      ]
    },
    {
      "cell_type": "code",
      "execution_count": 8,
      "metadata": {
        "colab": {
          "base_uri": "https://localhost:8080/"
        },
        "id": "a5TMuWtdgz3T",
        "outputId": "379f5c3a-5cf3-4dc2-9c3f-7f3635fd3d61"
      },
      "outputs": [
        {
          "name": "stdout",
          "output_type": "stream",
          "text": [
            "distance from Arad to Bucharest is ['Arad', 'Sibiu', 'Rimnicu', 'Pitesti', 'Bucharest'] km.\n"
          ]
        }
      ],
      "source": [
        "start = 'Arad'\n",
        "destination = 'Bucharest'\n",
        "\n",
        "shortest= BFS(start, destination)\n",
        "\n",
        "print(f\"distance from {start} to {destination} is {shortest} km.\")"
      ]
    },
    {
      "cell_type": "code",
      "execution_count": null,
      "metadata": {
        "id": "sj21PvUBhk5E"
      },
      "outputs": [],
      "source": []
    }
  ],
  "metadata": {
    "colab": {
      "provenance": []
    },
    "kernelspec": {
      "display_name": "Python 3",
      "language": "python",
      "name": "python3"
    },
    "language_info": {
      "codemirror_mode": {
        "name": "ipython",
        "version": 3
      },
      "file_extension": ".py",
      "mimetype": "text/x-python",
      "name": "python",
      "nbconvert_exporter": "python",
      "pygments_lexer": "ipython3",
      "version": "3.9.13"
    }
  },
  "nbformat": 4,
  "nbformat_minor": 0
}
