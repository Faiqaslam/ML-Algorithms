{
 "cells": [
  {
   "cell_type": "code",
   "execution_count": 139,
   "id": "cd5c16e3",
   "metadata": {},
   "outputs": [],
   "source": [
    "import geopy.distance\n",
    "from geopy.distance import geodesic"
   ]
  },
  {
   "cell_type": "code",
   "execution_count": 150,
   "id": "d8339c5b",
   "metadata": {},
   "outputs": [],
   "source": [
    "# Define the latitude and longitude of each city\n",
    "lat_long = {\n",
    "    'Arad': (46.1667, 21.3167),\n",
    "    'Bucharest': (44.4167, 26.1000),\n",
    "    'Craiova': (44.3333, 23.8167),\n",
    "    'Drobeta': (44.6259, 22.6566),\n",
    "    'Eforie': (44.0667, 28.6333),\n",
    "    'Fagaras': (45.8416, 24.9730),\n",
    "    'Giurgiu': (43.9037, 25.9699),\n",
    "    'Hirsova': (44.6833, 27.9500),\n",
    "    'Iasi': (47.1585, 27.6014),\n",
    "    'Lugoj': (45.6904, 21.9033),\n",
    "    'Neamt': (46.9283, 26.3705),\n",
    "    'Oradea': (47.0553, 21.9214),\n",
    "    'Pitesti': (44.8565, 24.8697),\n",
    "    'Rimnicu Vilcea': (45.1042, 24.3758),\n",
    "    'Sibiu': (45.7977, 24.1521),\n",
    "    'Timisoara': (45.7489, 21.2087),\n",
    "    'Urziceni': (44.7167, 26.6333),\n",
    "    'Vaslui': (46.6333, 27.7333),\n",
    "    'Zerind': (46.6225, 21.5174)\n",
    "}\n"
   ]
  },
  {
   "cell_type": "code",
   "execution_count": 151,
   "id": "a1f56454",
   "metadata": {},
   "outputs": [],
   "source": [
    "# Define the straight-line distance heuristic function\n",
    "def heuristic(start, end):\n",
    "    start_lat, start_long = lat_long[start]\n",
    "    end_lat, end_long = lat_long[end]\n",
    "    return math.sqrt((end_lat - start_lat) ** 2 + (end_long - start_long) ** 2)"
   ]
  },
  {
   "cell_type": "code",
   "execution_count": 152,
   "id": "5ae26e9f",
   "metadata": {},
   "outputs": [],
   "source": [
    "class Node:\n",
    "    def __init__(self, city, coordinates):\n",
    "        self.city = city\n",
    "        self.coordinates = coordinates\n",
    "        self.neighbors = []\n",
    "        self.g = float('inf')\n",
    "        self.f = float('inf')\n",
    "        self.parent = None\n",
    "\n",
    "    def distance(self, other):\n",
    "        lat1, lon1 = self.coordinates\n",
    "        lat2, lon2 = other.coordinates\n",
    "        distance = geopy.distance.distance((lat1, lon1), (lat2, lon2)).km\n",
    "        return distance"
   ]
  },
  {
   "cell_type": "code",
   "execution_count": 153,
   "id": "5657931f",
   "metadata": {},
   "outputs": [],
   "source": [
    "# A* search algorithm\n",
    "def astar(start, goal, nodes):\n",
    "    # Initialize the starting node's g and f values to 0\n",
    "    start.g = 0\n",
    "    start.f = start.distance(goal)\n",
    "\n",
    "    # Create the open and closed lists\n",
    "    open_list = [start]\n",
    "    closed_list = []\n",
    "\n",
    "    while open_list:\n",
    "        # Get the node with the lowest f score from the open list\n",
    "        current = min(open_list, key=lambda node: node.f)\n",
    "\n",
    "        # Check if the goal node is reached\n",
    "        if current == goal:\n",
    "            path = []\n",
    "            while current:\n",
    "                path.append(current.city)\n",
    "                current = current.parent\n",
    "            path.reverse()\n",
    "            return path, goal.g\n",
    "\n",
    "        # Move the current node from the open list to the closed list\n",
    "        open_list.remove(current)\n",
    "        closed_list.append(current)\n",
    "\n",
    "        # Check all of the current node's neighbors\n",
    "        for neighbor in current.neighbors:\n",
    "            # Calculate the tentative g value for the neighbor\n",
    "            tentative_g = current.g + current.distance(neighbor)\n",
    "\n",
    "            if tentative_g < neighbor.g:\n",
    "                # Update the neighbor's g score\n",
    "                neighbor.g = tentative_g\n",
    "                # Update the neighbor's f score\n",
    "                neighbor.f = neighbor.g + neighbor.distance(goal)\n",
    "                # Set the current node as the neighbor's parent\n",
    "                neighbor.parent = current\n",
    "\n",
    "                if neighbor not in open_list and neighbor not in closed_list:\n",
    "                    # Add the neighbor to the open list\n",
    "                    open_list.append(neighbor)\n"
   ]
  },
  {
   "cell_type": "code",
   "execution_count": 154,
   "id": "bdcc5e0b",
   "metadata": {},
   "outputs": [],
   "source": [
    "# Create the nodes on the map of Romania\n",
    "nodes = {}\n",
    "for city, coordinates in lat_long.items():\n",
    "    nodes[city] = Node(city, coordinates)"
   ]
  },
  {
   "cell_type": "code",
   "execution_count": 155,
   "id": "cc41fe0c",
   "metadata": {},
   "outputs": [],
   "source": [
    "connections = {\n",
    "    'Arad': ['Zerind', 'Sibiu', 'Timisoara'],\n",
    "    'Bucharest': ['Giurgiu', 'Pitesti', 'Urziceni', 'Fagaras'],\n",
    "    'Craiova': ['Drobeta', 'Pitesti', 'Rimnicu Vilcea'],\n",
    "    'Drobeta': ['Craiova'],\n",
    "    'Eforie': ['Hirsova'],\n",
    "    'Fagaras': ['Sibiu', 'Bucharest'],\n",
    "    'Giurgiu': ['Bucharest'],\n",
    "    'Hirsova': ['Eforie', 'Urziceni'],\n",
    "    'Iasi': ['Vaslui', 'Neamt'],\n",
    "    'Lugoj': ['Timisoara'],\n",
    "    'Neamt': ['Iasi'],\n",
    "    'Oradea': ['Zerind', 'Sibiu'],\n",
    "    'Pitesti': ['Rimnicu Vilcea', 'Bucharest', 'Craiova'],\n",
    "    'Rimnicu Vilcea': ['Sibiu', 'Pitesti', 'Craiova'],\n",
    "    'Sibiu': ['Oradea', 'Arad', 'Fagaras', 'Rimnicu Vilcea'],\n",
    "    'Timisoara': ['Arad', 'Lugoj'],\n",
    "    'Urziceni': ['Bucharest', 'Hirsova', 'Vaslui'],\n",
    "    'Vaslui': ['Iasi', 'Urziceni'],\n",
    "    'Zerind': ['Arad', 'Oradea']\n",
    "}\n"
   ]
  },
  {
   "cell_type": "code",
   "execution_count": 156,
   "id": "56a98372",
   "metadata": {},
   "outputs": [],
   "source": [
    "for city, neighbors in connections.items():\n",
    "    nodes[city].neighbors = [nodes[neighbor] for neighbor in neighbors]\n"
   ]
  },
  {
   "cell_type": "code",
   "execution_count": 157,
   "id": "890e7152",
   "metadata": {},
   "outputs": [],
   "source": [
    "# Define the start and goal nodes\n",
    "start_city = 'Arad'\n",
    "goal_city = 'Bucharest'\n",
    "# Find the start and goal nodes from the nodes dictionary\n",
    "start_node = None\n",
    "goal_node = None\n",
    "for node in nodes.values():\n",
    "    if node.city == start_city:\n",
    "        start_node = node\n",
    "    elif node.city == goal_city:\n",
    "        goal_node = node\n",
    "        break\n",
    "# Check if start and goal nodes are found\n",
    "if start_node is None:\n",
    "    raise ValueError(\"Start city not found in the map.\")\n",
    "if goal_node is None:\n",
    "    raise ValueError(\"Goal city not found in the map.\")\n"
   ]
  },
  {
   "cell_type": "code",
   "execution_count": 158,
   "id": "bdf5a22b",
   "metadata": {
    "scrolled": true
   },
   "outputs": [
    {
     "name": "stdout",
     "output_type": "stream",
     "text": [
      "Shortest path from Arad to Bucharest : ['Arad', 'Sibiu', 'Rimnicu Vilcea', 'Pitesti', 'Bucharest']\n",
      "Distance: 459.39541803611655\n"
     ]
    }
   ],
   "source": [
    "# Execute the A* search algorithm\n",
    "shortest_path, distance = astar(nodes[start_city], nodes[goal_city], nodes)\n",
    "# Print the shortest path and its distance\n",
    "print(\"Shortest path from\", start_city, \"to\", goal_city, \":\", shortest_path)\n",
    "print(\"Distance:\", distance)"
   ]
  }
 ],
 "metadata": {
  "kernelspec": {
   "display_name": "Python 3 (ipykernel)",
   "language": "python",
   "name": "python3"
  },
  "language_info": {
   "codemirror_mode": {
    "name": "ipython",
    "version": 3
   },
   "file_extension": ".py",
   "mimetype": "text/x-python",
   "name": "python",
   "nbconvert_exporter": "python",
   "pygments_lexer": "ipython3",
   "version": "3.9.13"
  }
 },
 "nbformat": 4,
 "nbformat_minor": 5
}
